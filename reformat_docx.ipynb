{
 "cells": [
  {
   "cell_type": "code",
   "execution_count": 1,
   "metadata": {},
   "outputs": [
    {
     "name": "stdout",
     "output_type": "stream",
     "text": [
      "['01_Rafajenko.docx', '02_polozij.docx', '03_Babkina.docx', '04_hehelska.docx', '05_smyrnowa.docx', '06_perehuda.docx', '07_faf.docx', '08_klymow.docx', '09_dolenyk.docx', '10_skulatowa.docx', '11_lymycz.docx', '12_nalada.docx', '13_zimina.docx', '14_bahriana.docx', '15_berezko.docx', '16_kija.docx', '17_kowalska.docx', '18_macko.docx', '19_nakoneczna.docx', '20_budzak.docx', '21_kononcz.docx', '22_janicka.docx', '23_steciuk.docx', '24_rudak.docx', '25_permiakow.docx', '26_lelyk.docx', '27_hakutna.docx', '28_olijnyk.docx', '29_szpylewska.docx', '30_diomina.docx', '31_wertola.docx', '32_pawluk.docx', '33_czerkaj.docx', '34_makarczuk.docx', '35_ponomar.docx', '36_derkaczowa.docx', '37_horbatiuk.docx', '38_szewlakowa.docx', '39_czerewan.docx']\n"
     ]
    }
   ],
   "source": [
    "import os\n",
    "import docx\n",
    "\n",
    "# Define the directory\n",
    "directory = 'docx'\n",
    "\n",
    "# List all .docx files in the directory\n",
    "doc_files = [file for file in os.listdir(directory) if file.endswith('.docx')]\n",
    "\n",
    "# Print the list of .docx files\n",
    "print(doc_files)"
   ]
  },
  {
   "cell_type": "code",
   "execution_count": 2,
   "metadata": {},
   "outputs": [],
   "source": [
    "text_dict = {}\n",
    "for doc_file in doc_files:\n",
    "    file_path = os.path.join(directory, doc_file)\n",
    "    doc = docx.Document(file_path)\n",
    "    text = '\\n'.join([paragraph.text for paragraph in doc.paragraphs])\n",
    "    text_dict[doc_file] = text"
   ]
  },
  {
   "cell_type": "code",
   "execution_count": 5,
   "metadata": {},
   "outputs": [],
   "source": [
    "# Create the 'ukr' directory if it doesn't exist\n",
    "if not os.path.exists('ukr'):\n",
    "    os.makedirs('ukr')\n",
    "\n",
    "# Save the content of text_dict to individual .docx files with change tracking enabled\n",
    "for filename, content in text_dict.items():\n",
    "    doc = docx.Document()\n",
    "    doc.settings.element.append(docx.oxml.shared.OxmlElement('w:trackRevisions'))\n",
    "    styles_element = doc.styles.element\n",
    "    rpr_default = styles_element.xpath('./w:docDefaults/w:rPrDefault/w:rPr')[0]\n",
    "    lang_default = rpr_default.xpath('w:lang')[0]\n",
    "    lang_default.set(docx.oxml.shared.qn('w:val'),'uk-UA')\n",
    "    for line in content.split('\\n'):\n",
    "        paragraph = doc.add_paragraph(line)\n",
    "    save_path = os.path.join('ukr', filename)\n",
    "    doc.save(save_path)"
   ]
  },
  {
   "cell_type": "code",
   "execution_count": null,
   "metadata": {},
   "outputs": [],
   "source": []
  }
 ],
 "metadata": {
  "kernelspec": {
   "display_name": ".venv",
   "language": "python",
   "name": "python3"
  },
  "language_info": {
   "codemirror_mode": {
    "name": "ipython",
    "version": 3
   },
   "file_extension": ".py",
   "mimetype": "text/x-python",
   "name": "python",
   "nbconvert_exporter": "python",
   "pygments_lexer": "ipython3",
   "version": "3.12.7"
  }
 },
 "nbformat": 4,
 "nbformat_minor": 2
}
