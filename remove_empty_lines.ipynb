{
 "cells": [
  {
   "cell_type": "code",
   "execution_count": 5,
   "metadata": {},
   "outputs": [
    {
     "name": "stdout",
     "output_type": "stream",
     "text": [
      "['01_Rafajenko.docx', '02_polozij.docx', '03_Babkina.docx', '04_hehelska.docx', '05_smyrnowa.docx', '06_perehuda.docx', '07_faf.docx', '08_klymow.docx', '09_dolenyk.docx', '10_skulatowa.docx', '11_lymycz.docx', '12_nalada.docx', '13_zimina.docx', '14_bahriana.docx', '15_berezko.docx', '16_kija.docx', '17_kowalska.docx', '18_macko.docx', '19_nakoneczna.docx', '20_budzak.docx', '21_kononcz.docx', '22_janicka.docx', '23_steciuk.docx', '24_rudak.docx', '25_permiakow.docx', '26_lelyk.docx', '27_hakutna.docx', '28_olijnyk.docx', '29_szpylewska.docx', '30_diomina.docx', '31_wertola.docx', '32_pawluk.docx', '33_czerkaj.docx', '34_makarczuk.docx', '35_ponomar.docx', '36_derkaczowa.docx', '37_horbatiuk.docx', '38_szewlakowa.docx', '39_czerewan.docx']\n"
     ]
    }
   ],
   "source": [
    "import os\n",
    "import docx\n",
    "\n",
    "# Define the directory\n",
    "src_dir = 'eng'\n",
    "dst_dir = 'eng_fixed'\n",
    "\n",
    "# List all .docx files in the directory\n",
    "doc_files = [file for file in os.listdir(src_dir) if file.endswith('.docx')]\n",
    "\n",
    "# Print the list of .docx files\n",
    "print(doc_files)"
   ]
  },
  {
   "cell_type": "code",
   "execution_count": 13,
   "metadata": {},
   "outputs": [],
   "source": [
    "# Create the 'ukr' directory if it doesn't exist\n",
    "if not os.path.exists(dst_dir):\n",
    "    os.makedirs(dst_dir)\n",
    "\n",
    "for doc_file in doc_files:\n",
    "    file_path = os.path.join(src_dir, doc_file)\n",
    "    doc = docx.Document(file_path)\n",
    "    for paragraph in doc.paragraphs:\n",
    "        if not paragraph.runs:\n",
    "            p = paragraph._element\n",
    "            p.getparent().remove(p)\n",
    "    save_path = os.path.join(dst_dir, doc_file)\n",
    "    doc.save(save_path)"
   ]
  }
 ],
 "metadata": {
  "kernelspec": {
   "display_name": ".venv",
   "language": "python",
   "name": "python3"
  },
  "language_info": {
   "codemirror_mode": {
    "name": "ipython",
    "version": 3
   },
   "file_extension": ".py",
   "mimetype": "text/x-python",
   "name": "python",
   "nbconvert_exporter": "python",
   "pygments_lexer": "ipython3",
   "version": "3.12.7"
  }
 },
 "nbformat": 4,
 "nbformat_minor": 2
}
