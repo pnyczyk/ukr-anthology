{
 "cells": [
  {
   "cell_type": "code",
   "execution_count": 1,
   "metadata": {},
   "outputs": [
    {
     "name": "stdout",
     "output_type": "stream",
     "text": [
      "['01_Rafajenko.docx', '02_polozij.docx', '03_Babkina.docx', '04_hehelska.docx', '05_smyrnowa.docx', '06_perehuda.docx', '07_faf.docx', '08_klymow.docx', '09_dolenyk.docx', '10_skulatowa.docx', '11_lymycz.docx', '12_nalada.docx', '13_zimina.docx', '14_bahriana.docx', '15_berezko.docx', '16_kija.docx', '17_kowalska.docx', '18_macko.docx', '19_nakoneczna.docx', '20_budzak.docx', '21_kononcz.docx', '22_janicka.docx', '23_steciuk.docx', '24_rudak.docx', '25_permiakow.docx', '26_lelyk.docx', '27_hakutna.docx', '28_olijnyk.docx', '29_szpylewska.docx', '30_diomina.docx', '31_wertola.docx', '32_pawluk.docx', '33_czerkaj.docx', '34_makarczuk.docx', '35_ponomar.docx', '36_derkaczowa.docx', '37_horbatiuk.docx', '38_szewlakowa.docx', '39_czerewan.docx']\n"
     ]
    }
   ],
   "source": [
    "import os\n",
    "import docx\n",
    "import openai\n",
    "\n",
    "# Define the directory\n",
    "src_dir = 'ukr'\n",
    "dst_dir = 'eng'\n",
    "\n",
    "# List all .docx files in the directory\n",
    "doc_files = [file for file in os.listdir(src_dir) if file.endswith('.docx')]\n",
    "\n",
    "# Print the list of .docx files\n",
    "print(doc_files)"
   ]
  },
  {
   "cell_type": "code",
   "execution_count": 2,
   "metadata": {},
   "outputs": [],
   "source": [
    "system_prompt = \"\"\"\n",
    "You are a translator of literature that takes into account cultural diferences. You are translating Ukrainian short stories\n",
    "preserving their original meaning and style including strong emotions during the war that is happening in Ukraine.\n",
    "\"\"\"\n",
    "user_prompt = \"Translate the following text into {target_language}:\\n\\n{text}\"\n",
    "\n",
    "def translate_text(text, target_language):\n",
    "    response = openai.chat.completions.create(\n",
    "        model = \"gpt-4o\",\n",
    "        messages = [\n",
    "            {\"role\": \"system\", \"content\": system_prompt},\n",
    "            {\"role\": \"user\", \"content\": user_prompt.format(text=text, target_language=target_language)},\n",
    "        ],\n",
    "    )\n",
    "    return response.choices[0].message.content.strip()"
   ]
  },
  {
   "cell_type": "code",
   "execution_count": 3,
   "metadata": {},
   "outputs": [],
   "source": [
    "def export_docx(filename, text):\n",
    "    doc = docx.Document()\n",
    "    doc.settings.element.append(docx.oxml.shared.OxmlElement('w:trackRevisions'))\n",
    "    styles_element = doc.styles.element\n",
    "    rpr_default = styles_element.xpath('./w:docDefaults/w:rPrDefault/w:rPr')[0]\n",
    "    lang_default = rpr_default.xpath('w:lang')[0]\n",
    "    lang_default.set(docx.oxml.shared.qn('w:val'),'en-US')\n",
    "    for line in text.split('\\n'):\n",
    "        paragraph = doc.add_paragraph(line)\n",
    "    save_path = os.path.join(dst_dir, filename)\n",
    "    doc.save(save_path)"
   ]
  },
  {
   "cell_type": "code",
   "execution_count": 4,
   "metadata": {},
   "outputs": [],
   "source": [
    "text_dict = {}\n",
    "for doc_file in doc_files:\n",
    "    file_path = os.path.join(src_dir, doc_file)\n",
    "    doc = docx.Document(file_path)\n",
    "    text = '\\n'.join([paragraph.text for paragraph in doc.paragraphs])\n",
    "    text_dict[doc_file] = text"
   ]
  },
  {
   "cell_type": "code",
   "execution_count": 5,
   "metadata": {},
   "outputs": [
    {
     "name": "stdout",
     "output_type": "stream",
     "text": [
      "Translating 01_Rafajenko.docx...\n",
      "Exporting 01_Rafajenko.docx...\n",
      "Translating 02_polozij.docx...\n",
      "Exporting 02_polozij.docx...\n",
      "Translating 03_Babkina.docx...\n",
      "Exporting 03_Babkina.docx...\n",
      "Translating 04_hehelska.docx...\n",
      "Exporting 04_hehelska.docx...\n",
      "Translating 05_smyrnowa.docx...\n",
      "Exporting 05_smyrnowa.docx...\n",
      "Translating 06_perehuda.docx...\n",
      "Exporting 06_perehuda.docx...\n",
      "Translating 07_faf.docx...\n",
      "Exporting 07_faf.docx...\n",
      "Translating 08_klymow.docx...\n",
      "Exporting 08_klymow.docx...\n",
      "Translating 09_dolenyk.docx...\n",
      "Exporting 09_dolenyk.docx...\n",
      "Translating 10_skulatowa.docx...\n",
      "Exporting 10_skulatowa.docx...\n",
      "Translating 11_lymycz.docx...\n",
      "Exporting 11_lymycz.docx...\n",
      "Translating 12_nalada.docx...\n",
      "Exporting 12_nalada.docx...\n",
      "Translating 13_zimina.docx...\n",
      "Exporting 13_zimina.docx...\n",
      "Translating 14_bahriana.docx...\n",
      "Exporting 14_bahriana.docx...\n",
      "Translating 15_berezko.docx...\n",
      "Exporting 15_berezko.docx...\n",
      "Translating 16_kija.docx...\n",
      "Exporting 16_kija.docx...\n",
      "Translating 17_kowalska.docx...\n",
      "Exporting 17_kowalska.docx...\n",
      "Translating 18_macko.docx...\n",
      "Exporting 18_macko.docx...\n",
      "Translating 19_nakoneczna.docx...\n",
      "Exporting 19_nakoneczna.docx...\n",
      "Translating 20_budzak.docx...\n",
      "Exporting 20_budzak.docx...\n",
      "Translating 21_kononcz.docx...\n",
      "Exporting 21_kononcz.docx...\n",
      "Translating 22_janicka.docx...\n",
      "Exporting 22_janicka.docx...\n",
      "Translating 23_steciuk.docx...\n",
      "Exporting 23_steciuk.docx...\n",
      "Translating 24_rudak.docx...\n",
      "Exporting 24_rudak.docx...\n",
      "Translating 25_permiakow.docx...\n",
      "Exporting 25_permiakow.docx...\n",
      "Translating 26_lelyk.docx...\n",
      "Exporting 26_lelyk.docx...\n",
      "Translating 27_hakutna.docx...\n",
      "Exporting 27_hakutna.docx...\n",
      "Translating 28_olijnyk.docx...\n",
      "Exporting 28_olijnyk.docx...\n",
      "Translating 29_szpylewska.docx...\n",
      "Exporting 29_szpylewska.docx...\n",
      "Translating 30_diomina.docx...\n",
      "Exporting 30_diomina.docx...\n",
      "Translating 31_wertola.docx...\n",
      "Exporting 31_wertola.docx...\n",
      "Translating 32_pawluk.docx...\n",
      "Exporting 32_pawluk.docx...\n",
      "Translating 33_czerkaj.docx...\n",
      "Exporting 33_czerkaj.docx...\n",
      "Translating 34_makarczuk.docx...\n",
      "Exporting 34_makarczuk.docx...\n",
      "Translating 35_ponomar.docx...\n",
      "Exporting 35_ponomar.docx...\n",
      "Translating 36_derkaczowa.docx...\n",
      "Exporting 36_derkaczowa.docx...\n",
      "Translating 37_horbatiuk.docx...\n",
      "Exporting 37_horbatiuk.docx...\n",
      "Translating 38_szewlakowa.docx...\n",
      "Exporting 38_szewlakowa.docx...\n",
      "Translating 39_czerewan.docx...\n",
      "Exporting 39_czerewan.docx...\n"
     ]
    }
   ],
   "source": [
    "# Create the dst_dir directory if it doesn't exist\n",
    "if not os.path.exists(dst_dir):\n",
    "    os.makedirs(dst_dir)\n",
    "\n",
    "for doc_file in doc_files:\n",
    "    print(f\"Translating {doc_file}...\")\n",
    "    translated_text = translate_text(text_dict[doc_file], 'English')\n",
    "    print(f\"Exporting {doc_file}...\")\n",
    "    export_docx(doc_file, translated_text)\n",
    "\n",
    "\n",
    "    "
   ]
  },
  {
   "cell_type": "code",
   "execution_count": null,
   "metadata": {},
   "outputs": [],
   "source": []
  }
 ],
 "metadata": {
  "kernelspec": {
   "display_name": ".venv",
   "language": "python",
   "name": "python3"
  },
  "language_info": {
   "codemirror_mode": {
    "name": "ipython",
    "version": 3
   },
   "file_extension": ".py",
   "mimetype": "text/x-python",
   "name": "python",
   "nbconvert_exporter": "python",
   "pygments_lexer": "ipython3",
   "version": "3.12.7"
  }
 },
 "nbformat": 4,
 "nbformat_minor": 2
}
